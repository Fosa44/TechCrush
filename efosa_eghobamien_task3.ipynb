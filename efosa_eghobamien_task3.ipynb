{
 "cells": [
  {
   "cell_type": "code",
   "execution_count": 1,
   "id": "1fe83b28-b084-42e7-b475-92e622e4a9f5",
   "metadata": {},
   "outputs": [
    {
     "data": {
      "text/plain": [
       "'C:\\\\Users\\\\Admin\\\\Documents\\\\DataScience\\\\TECHCRUSH\\\\Resources\\\\pizza_sales'"
      ]
     },
     "execution_count": 1,
     "metadata": {},
     "output_type": "execute_result"
    }
   ],
   "source": [
    "import os\n",
    "os.getcwd()"
   ]
  },
  {
   "cell_type": "markdown",
   "id": "5331711b-60bf-4ef6-a266-c65a45245671",
   "metadata": {},
   "source": [
    "# Pizza Place Sales — Analysis Notebook\n",
    "\n",
    "**Goal:** Analyze one year of pizza shop sales from four CSV files (Orders, Order Details, Pizzas, Pizza Types).  \n",
    "The goal is to clean & merge the provided data into a master DataFrame, perform EDA and answer the recommended questions (total revenue, quantity sold, orders, top pizzas, peak hours, monthly trends, underperforming pizza types)"
   ]
  },
  {
   "cell_type": "code",
   "execution_count": 2,
   "id": "6992b25f-b36c-4cc6-8671-3b08e6c846f2",
   "metadata": {},
   "outputs": [],
   "source": [
    "#--------IMPORT LIBRARIES---------------------\n",
    "\n",
    "import pandas as pd\n",
    "import numpy as np\n",
    "import matplotlib.pyplot as plt\n",
    "import seaborn as sns\n",
    "\n",
    "# ML / utilities (optional later)\n",
    "from sklearn.preprocessing import StandardScaler\n",
    "\n",
    "# Notebook display settings\n",
    "pd.set_option('display.max_columns', None) #show all columns\n",
    "pd.set_option('display.width', None) # unwrap texts\n",
    "sns.set(style='whitegrid')\n",
    "\n",
    "\n",
    "import warnings\n",
    "warnings.filterwarnings(\"ignore\")"
   ]
  },
  {
   "cell_type": "code",
   "execution_count": 3,
   "id": "2c941e90-69f2-4c04-8dee-55b6b031eca5",
   "metadata": {},
   "outputs": [
    {
     "name": "stdout",
     "output_type": "stream",
     "text": [
      "------------Orders loaded successfully. Shape: (21350, 3).----------------------\n",
      "   order_id        date      time\n",
      "0         1  2015-01-01  11:38:36\n",
      "1         2  2015-01-01  11:57:40\n",
      "2         3  2015-01-01  12:12:28\n",
      "3         4  2015-01-01  12:16:31\n",
      "4         5  2015-01-01  12:21:30\n",
      "------------Order_details loaded successfully. Shape: (48620, 4)---------\n",
      "   order_details_id  order_id       pizza_id  quantity\n",
      "0                 1         1     hawaiian_m         1\n",
      "1                 2         2  classic_dlx_m         1\n",
      "2                 3         2  five_cheese_l         1\n",
      "3                 4         2    ital_supr_l         1\n",
      "4                 5         2     mexicana_m         1\n",
      "------------Pizzas loaded successfully. Shape: (96, 4)-----------------------\n",
      "     pizza_id pizza_type_id size  price\n",
      "0   bbq_ckn_s       bbq_ckn    S  12.75\n",
      "1   bbq_ckn_m       bbq_ckn    M  16.75\n",
      "2   bbq_ckn_l       bbq_ckn    L  20.75\n",
      "3  cali_ckn_s      cali_ckn    S  12.75\n",
      "4  cali_ckn_m      cali_ckn    M  16.75\n",
      "------------Pizza types loaded successfully. Size: (32, 4)--------------\n",
      "  pizza_type_id                          name category  \\\n",
      "0       bbq_ckn    The Barbecue Chicken Pizza  Chicken   \n",
      "1      cali_ckn  The California Chicken Pizza  Chicken   \n",
      "2   ckn_alfredo     The Chicken Alfredo Pizza  Chicken   \n",
      "3     ckn_pesto       The Chicken Pesto Pizza  Chicken   \n",
      "4    southw_ckn   The Southwest Chicken Pizza  Chicken   \n",
      "\n",
      "                                         ingredients  \n",
      "0  Barbecued Chicken, Red Peppers, Green Peppers,...  \n",
      "1  Chicken, Artichoke, Spinach, Garlic, Jalapeno ...  \n",
      "2  Chicken, Red Onions, Red Peppers, Mushrooms, A...  \n",
      "3  Chicken, Tomatoes, Red Peppers, Spinach, Garli...  \n",
      "4  Chicken, Tomatoes, Red Peppers, Red Onions, Ja...  \n"
     ]
    }
   ],
   "source": [
    "#-----------READ CSV FILES---------------\n",
    "\n",
    "orders = pd.read_csv(\"orders.csv\")\n",
    "print(f\"------------Orders loaded successfully. Shape: {orders.shape}.----------------------\")\n",
    "print(orders.head())\n",
    "\n",
    "order_details = pd.read_csv(\"order_details.csv\")\n",
    "print(f\"------------Order_details loaded successfully. Shape: {order_details.shape}---------\")\n",
    "print(order_details.head())\n",
    "\n",
    "pizzas = pd.read_csv(\"pizzas.csv\")\n",
    "print(f\"------------Pizzas loaded successfully. Shape: {pizzas.shape}-----------------------\")\n",
    "print(pizzas.head())\n",
    "\n",
    "# Error in reading the \"pizza_types\" document hence the encoding error argument\n",
    "pizza_types = pd.read_csv(\"pizza_types.csv\", encoding_errors=\"replace\") \n",
    "print(f\"------------Pizza types loaded successfully. Size: {pizza_types.shape}--------------\")\n",
    "print(pizza_types.head())"
   ]
  },
  {
   "cell_type": "code",
   "execution_count": 4,
   "id": "021c8bd0-6584-4002-afc2-f1ebae725f7d",
   "metadata": {
    "scrolled": true
   },
   "outputs": [
    {
     "name": "stdout",
     "output_type": "stream",
     "text": [
      "--------orders_orders_details merged successfully------\n",
      "--------orders_pizzass merged successfully-------------\n",
      "--------everything merged successfuly------------------\n",
      "   order_details_id  order_id       pizza_id  quantity        date      time  \\\n",
      "0                 1         1     hawaiian_m         1  2015-01-01  11:38:36   \n",
      "1                 2         2  classic_dlx_m         1  2015-01-01  11:57:40   \n",
      "2                 3         2  five_cheese_l         1  2015-01-01  11:57:40   \n",
      "3                 4         2    ital_supr_l         1  2015-01-01  11:57:40   \n",
      "4                 5         2     mexicana_m         1  2015-01-01  11:57:40   \n",
      "\n",
      "  pizza_type_id size  price                       name category  \\\n",
      "0      hawaiian    M  13.25         The Hawaiian Pizza  Classic   \n",
      "1   classic_dlx    M  16.00   The Classic Deluxe Pizza  Classic   \n",
      "2   five_cheese    L  18.50      The Five Cheese Pizza   Veggie   \n",
      "3     ital_supr    L  20.75  The Italian Supreme Pizza  Supreme   \n",
      "4      mexicana    M  16.00         The Mexicana Pizza   Veggie   \n",
      "\n",
      "                                         ingredients  \n",
      "0           Sliced Ham, Pineapple, Mozzarella Cheese  \n",
      "1  Pepperoni, Mushrooms, Red Onions, Red Peppers,...  \n",
      "2  Mozzarella Cheese, Provolone Cheese, Smoked Go...  \n",
      "3  Calabrese Salami, Capocollo, Tomatoes, Red Oni...  \n",
      "4  Tomatoes, Red Peppers, Jalapeno Peppers, Red O...  \n"
     ]
    }
   ],
   "source": [
    "#--------JOIN .CSV FILES---------\n",
    "\n",
    "# Merge orders with order_details on 'order_id'\n",
    "orders_order_details = pd.merge(order_details, orders, on='order_id', how='inner')\n",
    "print(\"--------orders_orders_details merged successfully------\")\n",
    "\n",
    "# Merge orders_order_details with pizzas on 'pizza_id'\n",
    "orders_pizzas = pd.merge(orders_order_details, pizzas, on='pizza_id', how='inner')\n",
    "print(\"--------orders_pizzass merged successfully-------------\")\n",
    "\n",
    "# Merge orders_pizzas with pizza_types on 'pizza_type_id'\n",
    "everything = pd.merge(orders_pizzas, pizza_types, on='pizza_type_id', how='inner')\n",
    "print(\"--------everything merged successfuly------------------\")\n",
    "\n",
    "\n",
    "print(everything.head())"
   ]
  },
  {
   "cell_type": "code",
   "execution_count": 5,
   "id": "30d008b6-c688-408a-89de-133e6bbb304d",
   "metadata": {
    "scrolled": true
   },
   "outputs": [
    {
     "name": "stdout",
     "output_type": "stream",
     "text": [
      "<class 'pandas.core.frame.DataFrame'>\n",
      "RangeIndex: 48620 entries, 0 to 48619\n",
      "Data columns (total 12 columns):\n",
      " #   Column            Non-Null Count  Dtype  \n",
      "---  ------            --------------  -----  \n",
      " 0   order_details_id  48620 non-null  int64  \n",
      " 1   order_id          48620 non-null  int64  \n",
      " 2   pizza_id          48620 non-null  object \n",
      " 3   quantity          48620 non-null  int64  \n",
      " 4   date              48620 non-null  object \n",
      " 5   time              48620 non-null  object \n",
      " 6   pizza_type_id     48620 non-null  object \n",
      " 7   size              48620 non-null  object \n",
      " 8   price             48620 non-null  float64\n",
      " 9   name              48620 non-null  object \n",
      " 10  category          48620 non-null  object \n",
      " 11  ingredients       48620 non-null  object \n",
      "dtypes: float64(1), int64(3), object(8)\n",
      "memory usage: 4.5+ MB\n"
     ]
    }
   ],
   "source": [
    "everything.info()"
   ]
  },
  {
   "cell_type": "code",
   "execution_count": 6,
   "id": "450dd529-1f80-4235-8e3b-a1d74d2fc2ca",
   "metadata": {},
   "outputs": [
    {
     "name": "stdout",
     "output_type": "stream",
     "text": [
      "<class 'pandas.core.frame.DataFrame'>\n",
      "RangeIndex: 48620 entries, 0 to 48619\n",
      "Data columns (total 12 columns):\n",
      " #   Column            Non-Null Count  Dtype         \n",
      "---  ------            --------------  -----         \n",
      " 0   order_details_id  48620 non-null  int64         \n",
      " 1   order_id          48620 non-null  int64         \n",
      " 2   pizza_id          48620 non-null  object        \n",
      " 3   quantity          48620 non-null  int64         \n",
      " 4   date              48620 non-null  datetime64[ns]\n",
      " 5   time              48620 non-null  object        \n",
      " 6   pizza_type_id     48620 non-null  object        \n",
      " 7   size              48620 non-null  object        \n",
      " 8   price             48620 non-null  float64       \n",
      " 9   name              48620 non-null  object        \n",
      " 10  category          48620 non-null  object        \n",
      " 11  ingredients       48620 non-null  object        \n",
      "dtypes: datetime64[ns](1), float64(1), int64(3), object(7)\n",
      "memory usage: 4.5+ MB\n"
     ]
    }
   ],
   "source": [
    "everything[\"date\"] = pd.to_datetime(everything[\"date\"])\n",
    "everything[\"time\"] = pd.to_datetime(everything[\"time\"], format='%H:%M:%S').dt.time\n",
    "\n",
    "everything.info()"
   ]
  },
  {
   "cell_type": "code",
   "execution_count": 7,
   "id": "948a2a40-0dff-4885-a1e1-6ef1852b912b",
   "metadata": {},
   "outputs": [
    {
     "name": "stdout",
     "output_type": "stream",
     "text": [
      "--------------Missing values per table:-----------------\n",
      "--------------orders:-----------\n",
      " order_id    0\n",
      "date        0\n",
      "time        0\n",
      "dtype: int64\n",
      "\n",
      "------------order_details:----\n",
      " order_details_id    0\n",
      "order_id            0\n",
      "pizza_id            0\n",
      "quantity            0\n",
      "dtype: int64\n",
      "\n",
      "------------pizzas:-----------\n",
      " pizza_id         0\n",
      "pizza_type_id    0\n",
      "size             0\n",
      "price            0\n",
      "dtype: int64\n",
      "\n",
      "------------pizza_types:------\n",
      " pizza_type_id    0\n",
      "name             0\n",
      "category         0\n",
      "ingredients      0\n",
      "dtype: int64\n"
     ]
    }
   ],
   "source": [
    "#-----------------MISSING VALUES---------------\n",
    "\n",
    "\n",
    "print(\"--------------Missing values per table:-----------------\")\n",
    "print(\"--------------orders:-----------\\n\", orders.isnull().sum())\n",
    "print(\"\\n------------order_details:----\\n\", order_details.isnull().sum())\n",
    "print(\"\\n------------pizzas:-----------\\n\", pizzas.isnull().sum())\n",
    "print(\"\\n------------pizza_types:------\\n\", pizza_types.isnull().sum())"
   ]
  },
  {
   "cell_type": "code",
   "execution_count": 8,
   "id": "1c9a16e1-ce78-4ee1-8ec2-393957770061",
   "metadata": {},
   "outputs": [
    {
     "name": "stdout",
     "output_type": "stream",
     "text": [
      "order_details_id    0\n",
      "order_id            0\n",
      "pizza_id            0\n",
      "quantity            0\n",
      "date                0\n",
      "time                0\n",
      "pizza_type_id       0\n",
      "size                0\n",
      "price               0\n",
      "name                0\n",
      "category            0\n",
      "ingredients         0\n",
      "dtype: int64\n",
      "Everything shape: (48620, 12)\n"
     ]
    }
   ],
   "source": [
    "print(everything.isnull().sum())\n",
    "print(f\"Everything shape: {everything.shape}\")"
   ]
  },
  {
   "cell_type": "code",
   "execution_count": 9,
   "id": "1c8c4ae6-fca4-4af5-bfb3-861bd2bbf45c",
   "metadata": {},
   "outputs": [
    {
     "name": "stdout",
     "output_type": "stream",
     "text": [
      "---------Revenue column created-------------\n",
      "Total revenue is  $817860.05\n"
     ]
    }
   ],
   "source": [
    "#-----------TOTAL REVENUE----------\n",
    "\n",
    "everything[\"revenue\"] = everything[\"quantity\"]*everything[\"price\"] #revenue is the product of quantity & price\n",
    "print(\"---------Revenue column created-------------\")\n",
    "\n",
    "total_revenue = everything[\"revenue\"].sum()\n",
    "print(f\"Total revenue is  ${total_revenue:}\")"
   ]
  },
  {
   "cell_type": "code",
   "execution_count": 10,
   "id": "baaaa85d-f7f5-4ba8-abae-9641bb90c751",
   "metadata": {},
   "outputs": [
    {
     "name": "stdout",
     "output_type": "stream",
     "text": [
      "The total Quantity sold for the year is $49574\n"
     ]
    }
   ],
   "source": [
    "#---------TOTAL QUANTITY SOLD---------\n",
    "\n",
    "total_quantity = everything[\"quantity\"].sum()\n",
    "\n",
    "print(f\"The total Quantity sold for the year is ${total_quantity}\")"
   ]
  },
  {
   "cell_type": "code",
   "execution_count": 11,
   "id": "6a3e9e6b-3e2a-4e11-86a8-d2a3d2e4d13e",
   "metadata": {},
   "outputs": [
    {
     "name": "stdout",
     "output_type": "stream",
     "text": [
      "The Total Orders: 21350\n"
     ]
    }
   ],
   "source": [
    "#---------TOTAL ORDERS----------------\n",
    "\n",
    "total_orders = everything[\"order_id\"].nunique() #count the order items once to avoid duplicates\n",
    "\n",
    "print(f\"The Total Orders: {total_orders}\")"
   ]
  },
  {
   "cell_type": "code",
   "execution_count": 12,
   "id": "1502ce85-3f1c-4857-a0f5-ecd0c44a0f3c",
   "metadata": {},
   "outputs": [
    {
     "name": "stdout",
     "output_type": "stream",
     "text": [
      "The average price of Pizzas is: $ 16.49\n"
     ]
    }
   ],
   "source": [
    "#--------AVERAGE PRICE OF PIZZAS------\n",
    "\n",
    "avg_pizza_price = everything[\"price\"].mean()\n",
    "print(f\"The average price of Pizzas is: ${avg_pizza_price: .2f}\")"
   ]
  },
  {
   "cell_type": "code",
   "execution_count": 13,
   "id": "c853a679-0e8e-4d49-997d-a22d7a7673dc",
   "metadata": {},
   "outputs": [
    {
     "name": "stdout",
     "output_type": "stream",
     "text": [
      "   order_details_id  order_id       pizza_id  quantity       date      time  \\\n",
      "0                 1         1     hawaiian_m         1 2015-01-01  11:38:36   \n",
      "1                 2         2  classic_dlx_m         1 2015-01-01  11:57:40   \n",
      "2                 3         2  five_cheese_l         1 2015-01-01  11:57:40   \n",
      "3                 4         2    ital_supr_l         1 2015-01-01  11:57:40   \n",
      "4                 5         2     mexicana_m         1 2015-01-01  11:57:40   \n",
      "\n",
      "  pizza_type_id size  price                       name category  \\\n",
      "0      hawaiian    M  13.25         The Hawaiian Pizza  Classic   \n",
      "1   classic_dlx    M  16.00   The Classic Deluxe Pizza  Classic   \n",
      "2   five_cheese    L  18.50      The Five Cheese Pizza   Veggie   \n",
      "3     ital_supr    L  20.75  The Italian Supreme Pizza  Supreme   \n",
      "4      mexicana    M  16.00         The Mexicana Pizza   Veggie   \n",
      "\n",
      "                                         ingredients  revenue  \n",
      "0           Sliced Ham, Pineapple, Mozzarella Cheese    13.25  \n",
      "1  Pepperoni, Mushrooms, Red Onions, Red Peppers,...    16.00  \n",
      "2  Mozzarella Cheese, Provolone Cheese, Smoked Go...    18.50  \n",
      "3  Calabrese Salami, Capocollo, Tomatoes, Red Oni...    20.75  \n",
      "4  Tomatoes, Red Peppers, Jalapeno Peppers, Red O...    16.00  \n"
     ]
    }
   ],
   "source": [
    "print(everything.head())"
   ]
  },
  {
   "cell_type": "code",
   "execution_count": 14,
   "id": "96c123ba-0a9f-49f0-a542-b02874054b48",
   "metadata": {},
   "outputs": [
    {
     "name": "stdout",
     "output_type": "stream",
     "text": [
      "The peak hours of Sale are:     hour    revenue\n",
      "3     12  111877.90\n",
      "4     13  106065.70\n",
      "9     18   89296.85\n",
      "8     17   86237.45\n",
      "10    19   72628.90\n",
      "7     16   70055.40\n",
      "5     14   59201.40\n",
      "11    20   58215.40\n",
      "6     15   52992.30\n",
      "2     11   44935.80\n",
      "12    21   42029.80\n",
      "13    22   22815.15\n",
      "14    23    1121.35\n",
      "1     10     303.65\n",
      "0      9      83.00\n"
     ]
    }
   ],
   "source": [
    "#-------PEAK HOURS OF SALE--------\n",
    "\n",
    "everything[\"datetime\"] = pd.to_datetime(everything[\"date\"].astype(str) + \" \" + everything[\"time\"].astype(str))\n",
    "everything[\"hour\"] = everything[\"datetime\"].dt.hour\n",
    "\n",
    "peak_hours = everything.groupby(\"hour\")[\"revenue\"].sum().reset_index().sort_values(\"revenue\", ascending=False)\n",
    "\n",
    "print(f\"The peak hours of Sale are: {peak_hours}\")"
   ]
  },
  {
   "cell_type": "code",
   "execution_count": 15,
   "id": "192aa2fd-5876-4408-9b83-f717d6ffcd05",
   "metadata": {},
   "outputs": [
    {
     "name": "stdout",
     "output_type": "stream",
     "text": [
      "     datetime  revenue\n",
      "0  2015-01-01  2713.85\n",
      "1  2015-01-02  2731.90\n",
      "2  2015-01-03  2662.40\n",
      "3  2015-01-04  1755.45\n",
      "4  2015-01-05  2065.95\n"
     ]
    }
   ],
   "source": [
    "#-------TOTAL SALE ON EACH DAY OF THE WEEK--------\n",
    "\n",
    "total_sale_per_day = everything.groupby(everything[\"datetime\"].dt.date)[\"revenue\"].sum().reset_index()\n",
    "print(total_sale_per_day.head())\n"
   ]
  },
  {
   "cell_type": "code",
   "execution_count": 16,
   "id": "ee73afc4-2802-46da-bba3-4a4701419b3a",
   "metadata": {},
   "outputs": [
    {
     "name": "stdout",
     "output_type": "stream",
     "text": [
      "The top 5 selling Pizzas are: \n",
      "                           name  quantity\n",
      "7     The Classic Deluxe Pizza      2453\n",
      "0   The Barbecue Chicken Pizza      2432\n",
      "12          The Hawaiian Pizza      2422\n",
      "20         The Pepperoni Pizza      2418\n",
      "30      The Thai Chicken Pizza      2371\n"
     ]
    }
   ],
   "source": [
    "#-------TOP 5 SELLING PIZZAS----------------------\n",
    "\n",
    "top_pizzas = everything.groupby(\"name\")[\"quantity\"].sum().reset_index().sort_values(\"quantity\", ascending=False)\n",
    "print(f\"The top 5 selling Pizzas are: \\n {top_pizzas.head(5)}\")"
   ]
  },
  {
   "cell_type": "code",
   "execution_count": null,
   "id": "8f8a78c9-524c-49b0-90ee-e86d90635db3",
   "metadata": {},
   "outputs": [],
   "source": [
    "#-------SALES MADE IN EACH MONTH------------------\n",
    "\n",
    "everything[\"month\"] = everything[\"datetime\"].dt.month # extracting the month number from datetime\n",
    "everything[\"month_name\"] = everything[\"datetime\"].dt.strftime('%B') # extract month name \n",
    "\n",
    "sales_per_month = everything.groupby(everything[\"month_name\"])[\"revenue\"].sum().reset_index().sort_values(\"month_name\", ascending=False)\n",
    "print(f\"The total Sale made in each month of the year is:\\n {sales_per_month}\")"
   ]
  },
  {
   "cell_type": "code",
   "execution_count": null,
   "id": "106f2733-9f6b-498a-9754-38aecea6579f",
   "metadata": {},
   "outputs": [],
   "source": [
    "#-------PIZZA TYPES NOT DOING WELL ON THE MENU----\n",
    "\n",
    "pizza_perform = everything.groupby(\"name\")[\"quantity\"].sum().reset_index().sort_values(\"quantity\", ascending=True)\n",
    "print(f\"The least performing Pizza (Top 5) by sales are:\\n {pizza_perform.head()}\")"
   ]
  },
  {
   "cell_type": "markdown",
   "id": "215f423d-24ba-458b-8239-41fe6277d947",
   "metadata": {},
   "source": [
    "## Conclusion\n",
    "- The least performing Pizza by quantity sold is \"The Brie Carre Pizza\". It is the only Pizza being sold on the menu with less than 500 sales"
   ]
  },
  {
   "cell_type": "code",
   "execution_count": null,
   "id": "b3788625-6989-4fd1-8c9a-fdeefb28a132",
   "metadata": {},
   "outputs": [],
   "source": []
  }
 ],
 "metadata": {
  "kernelspec": {
   "display_name": "Python 3 (ipykernel)",
   "language": "python",
   "name": "python3"
  },
  "language_info": {
   "codemirror_mode": {
    "name": "ipython",
    "version": 3
   },
   "file_extension": ".py",
   "mimetype": "text/x-python",
   "name": "python",
   "nbconvert_exporter": "python",
   "pygments_lexer": "ipython3",
   "version": "3.12.7"
  }
 },
 "nbformat": 4,
 "nbformat_minor": 5
}
